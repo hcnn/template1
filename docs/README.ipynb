{
 "cells": [
  {
   "cell_type": "raw",
   "metadata": {},
   "source": []
  },
  {
   "cell_type": "markdown",
   "metadata": {},
   "source": [
    "### Formula\n",
    "La li lu\n",
    "\n",
    "$$\n",
    "z = \\frac{1}{N-1} \\, \\sum_i^N \\left((y_i - \\mu) \\cdot 1_{y_i>\\mu}\\right)^2\n",
    "$$"
   ]
  },
  {
   "cell_type": "markdown",
   "metadata": {},
   "source": [
    "### Algorithm\n",
    "Hey ho ha\n",
    "\n",
    "<!-- ![algorithm](algopic.svg) -->\n",
    "![algorithm](algopic-1.png)"
   ]
  },
  {
   "cell_type": "markdown",
   "metadata": {},
   "source": [
    "### C Implementation"
   ]
  },
  {
   "cell_type": "code",
   "execution_count": 1,
   "metadata": {
    "ExecuteTime": {
     "end_time": "2018-09-10T15:22:14.575627Z",
     "start_time": "2018-09-10T15:22:14.444684Z"
    }
   },
   "outputs": [
    {
     "name": "stdout",
     "output_type": "stream",
     "text": [
      "cool stuff: 1.30\n"
     ]
    }
   ],
   "source": [
    "#include <stdio.h>\n",
    "#include <stddef.h>\n",
    "\n",
    "double semivariance(const double* y, size_t N, double mu){\n",
    "    double z = 0;\n",
    "    double ymu;\n",
    "    for(size_t i=0; i<N; i++){\n",
    "        if(y[i] > mu){\n",
    "            ymu = y[i] - mu;\n",
    "            z += ymu*ymu;\n",
    "        }\n",
    "    }\n",
    "    return z / (N - 1.0);\n",
    "}\n",
    "\n",
    "int main(){\n",
    "    double y[] = {-4,-2,-1,1,2,4};\n",
    "    size_t N = 6;\n",
    "    double mu = 1.5;\n",
    "    double z = semivariance(y,N,mu);\n",
    "    printf(\"%s: %.2f\\n\", \"cool stuff\", z);\n",
    "    return 0;\n",
    "}"
   ]
  },
  {
   "cell_type": "markdown",
   "metadata": {},
   "source": [
    "### Links\n",
    "* https://en.wikibooks.org/wiki/LaTeX/Algorithms\n",
    "* http://tug.ctan.org/macros/latex/contrib/algorithmicx/algorithmicx.pdf"
   ]
  }
 ],
 "metadata": {
  "kernelspec": {
   "display_name": "C",
   "language": "c",
   "name": "c"
  },
  "language_info": {
   "file_extension": ".c",
   "mimetype": "text/plain",
   "name": "c"
  },
  "toc": {
   "base_numbering": 1,
   "nav_menu": {},
   "number_sections": true,
   "sideBar": true,
   "skip_h1_title": false,
   "title_cell": "Table of Contents",
   "title_sidebar": "Contents",
   "toc_cell": false,
   "toc_position": {},
   "toc_section_display": true,
   "toc_window_display": false
  },
  "varInspector": {
   "cols": {
    "lenName": 16,
    "lenType": 16,
    "lenVar": 40
   },
   "kernels_config": {
    "python": {
     "delete_cmd_postfix": "",
     "delete_cmd_prefix": "del ",
     "library": "var_list.py",
     "varRefreshCmd": "print(var_dic_list())"
    },
    "r": {
     "delete_cmd_postfix": ") ",
     "delete_cmd_prefix": "rm(",
     "library": "var_list.r",
     "varRefreshCmd": "cat(var_dic_list()) "
    }
   },
   "types_to_exclude": [
    "module",
    "function",
    "builtin_function_or_method",
    "instance",
    "_Feature"
   ],
   "window_display": false
  }
 },
 "nbformat": 4,
 "nbformat_minor": 2
}
